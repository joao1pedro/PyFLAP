{
 "cells": [
  {
   "cell_type": "code",
   "execution_count": 5,
   "metadata": {},
   "outputs": [],
   "source": [
    "import pandas as pd\n",
    "import numpy as np\n",
    "import pm_lib\n",
    "import ipywidgets as widgets\n",
    "from IPython.display import clear_output, display\n",
    "from tkinter import Tk, filedialog"
   ]
  },
  {
   "cell_type": "code",
   "execution_count": 6,
   "metadata": {},
   "outputs": [
    {
     "data": {
      "application/vnd.jupyter.widget-view+json": {
       "model_id": "2430a57152cd4878bf95817094c65bf0",
       "version_major": 2,
       "version_minor": 0
      },
      "text/plain": [
       "Button(description='File select', style=ButtonStyle())"
      ]
     },
     "metadata": {},
     "output_type": "display_data"
    }
   ],
   "source": [
    "files = ''\n",
    "\n",
    "def select_files(b):\n",
    "    global files\n",
    "    clear_output()\n",
    "    root = Tk()\n",
    "    root.withdraw() # Hide the main window.\n",
    "    root.call('wm', 'attributes', '.', '-topmost', True) # Raise the root to the top of all windows.\n",
    "    files = filedialog.askopenfilename() \n",
    "\n",
    "fileselect = widgets.Button(description=\"File select\")\n",
    "fileselect.on_click(select_files)\n",
    "\n",
    "display(fileselect)\n"
   ]
  },
  {
   "cell_type": "code",
   "execution_count": 7,
   "metadata": {},
   "outputs": [],
   "source": [
    "col_names = ['Word', 'Expected']\n",
    "\n",
    "\n",
    "def on_button_clicked(b):\n",
    "    global files\n",
    "    results = []\n",
    "    \n",
    "    \n",
    "    nfa = pm_lib.jffToNFA(files)\n",
    "    dfa = pm_lib.jffToDFA(files)\n",
    "    \n",
    "    if nondet_check(nfa) == True:\n",
    "        with out1:\n",
    "            doc = 'nfa.cases'\n",
    "            g_nfa = pm_lib.nfa_to_graph(nfa)\n",
    "            data = pd.read_csv(doc, sep='\\t', dtype=object, names = col_names)\n",
    "            results = pm_lib.nfa_validate(nfa, doc)\n",
    "            df_nfa = pd.DataFrame(columns=[\"Received\"])\n",
    "            df_nfa[\"Received\"] = results\n",
    "            df_nfa = pd.concat([data, df_nfa], axis=1)\n",
    "            df_nfa = df_nfa.dropna()\n",
    "            df_nfa.to_csv('file_sent.csv', sep='\\t', encoding='utf-8', index=False)\n",
    "            clear_output()\n",
    "            display(g_nfa)\n",
    "            display(df_nfa)\n",
    "\n",
    "\n",
    "    if nondet_check(dfa) == False:\n",
    "        with out2:\n",
    "            doc = 'dfa.cases'\n",
    "            g_dfa = pm_lib.dfa_to_graph(dfa)\n",
    "            data = pd.read_csv(doc, sep='\\t', dtype=object, names = col_names)\n",
    "            results = pm_lib.dfa_validate(dfa, doc)\n",
    "            df_dfa = pd.DataFrame(columns=[\"Received\"])\n",
    "            df_dfa[\"Received\"] = results\n",
    "            df_dfa = pd.concat([data, df_dfa], axis=1)\n",
    "            df_dfa = df_dfa.dropna()\n",
    "            df_dfa.to_csv('file_sent.csv', sep='\\t', encoding='utf-8', index=False)\n",
    "            clear_output() \n",
    "            display(g_dfa)\n",
    "            display(df_dfa)\n",
    "\n"
   ]
  },
  {
   "cell_type": "code",
   "execution_count": 10,
   "metadata": {},
   "outputs": [
    {
     "data": {
      "application/vnd.jupyter.widget-view+json": {
       "model_id": "307476b84aed44d0b6226506606f318d",
       "version_major": 2,
       "version_minor": 0
      },
      "text/plain": [
       "Tab(children=(Output(), Output()), _titles={'0': 'NFA', '1': 'DFA'})"
      ]
     },
     "metadata": {},
     "output_type": "display_data"
    },
    {
     "data": {
      "application/vnd.jupyter.widget-view+json": {
       "model_id": "1299bf17a99a40c9913113009aa1050e",
       "version_major": 2,
       "version_minor": 0
      },
      "text/plain": [
       "Button(description='Eval', style=ButtonStyle())"
      ]
     },
     "metadata": {},
     "output_type": "display_data"
    }
   ],
   "source": [
    "out1 = widgets.Output()\n",
    "out2 = widgets.Output()\n",
    "button = widgets.Button(description='Eval')\n",
    "\n",
    "button.on_click(on_button_clicked)\n",
    "    \n",
    "\n",
    "tab = widgets.Tab(children = [out1, out2])\n",
    "tab.set_title(0, 'NFA')\n",
    "tab.set_title(1, 'DFA')\n",
    "\n",
    "display(tab)\n",
    "display(button)"
   ]
  },
  {
   "cell_type": "code",
   "execution_count": null,
   "metadata": {},
   "outputs": [],
   "source": []
  }
 ],
 "metadata": {
  "interpreter": {
   "hash": "7b733cb55db7dfe2cad4aa6c3148591a13c313bd44485e31c79a75b8eb124656"
  },
  "kernelspec": {
   "display_name": "Python 3 (ipykernel)",
   "language": "python",
   "name": "python3"
  },
  "language_info": {
   "codemirror_mode": {
    "name": "ipython",
    "version": 3
   },
   "file_extension": ".py",
   "mimetype": "text/x-python",
   "name": "python",
   "nbconvert_exporter": "python",
   "pygments_lexer": "ipython3",
   "version": "3.9.6"
  }
 },
 "nbformat": 4,
 "nbformat_minor": 4
}
