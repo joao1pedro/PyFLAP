{
 "cells": [
  {
   "cell_type": "code",
   "execution_count": 1,
   "metadata": {},
   "outputs": [],
   "source": [
    "import pandas as pd\n",
    "import numpy as np\n",
    "import pm_lib\n",
    "import ipywidgets as widgets\n",
    "from IPython.display import clear_output, display\n",
    "from tkinter import Tk, filedialog"
   ]
  },
  {
   "cell_type": "code",
   "execution_count": 2,
   "metadata": {},
   "outputs": [
    {
     "data": {
      "application/vnd.jupyter.widget-view+json": {
       "model_id": "0f5d9baa81194cb7bebeb2db5e4f9986",
       "version_major": 2,
       "version_minor": 0
      },
      "text/plain": [
       "Button(description='File select', style=ButtonStyle())"
      ]
     },
     "metadata": {},
     "output_type": "display_data"
    }
   ],
   "source": [
    "files = ''\n",
    "\n",
    "def select_files(b):\n",
    "    global files\n",
    "    clear_output()\n",
    "    root = Tk()\n",
    "    root.withdraw() # Hide the main window.\n",
    "    root.call('wm', 'attributes', '.', '-topmost', True) # Raise the root to the top of all windows.\n",
    "    files = filedialog.askopenfilename() \n",
    "\n",
    "fileselect = widgets.Button(description=\"File select\")\n",
    "fileselect.on_click(select_files)\n",
    "\n",
    "display(fileselect)\n"
   ]
  },
  {
   "cell_type": "code",
   "execution_count": 3,
   "metadata": {},
   "outputs": [
    {
     "data": {
      "application/vnd.jupyter.widget-view+json": {
       "model_id": "63754b7931be4ea7b08ab9feb8e41358",
       "version_major": 2,
       "version_minor": 0
      },
      "text/plain": [
       "Dropdown(options=('NFA', 'DFA'), value='NFA')"
      ]
     },
     "metadata": {},
     "output_type": "display_data"
    },
    {
     "data": {
      "application/vnd.jupyter.widget-view+json": {
       "model_id": "c680359afbbf456c8d10e7dbd4a7be40",
       "version_major": 2,
       "version_minor": 0
      },
      "text/plain": [
       "Button(description='Evaluate', style=ButtonStyle())"
      ]
     },
     "metadata": {},
     "output_type": "display_data"
    },
    {
     "data": {
      "application/vnd.jupyter.widget-view+json": {
       "model_id": "1f17a2f4ddd347e7b13217a2ce7cf7bf",
       "version_major": 2,
       "version_minor": 0
      },
      "text/plain": [
       "Output()"
      ]
     },
     "metadata": {},
     "output_type": "display_data"
    }
   ],
   "source": [
    "selection_fa = ['NFA','DFA']\n",
    "\n",
    "wid_selection_fa = widgets.Dropdown(name=\"FA\")\n",
    "wid_selection_fa.options = selection_fa\n",
    "\n",
    "button = widgets.Button(description=\"Evaluate\")\n",
    "output = widgets.Output()\n",
    "\n",
    "col_names = ['Word', 'Expected']\n",
    "\n",
    "def on_button_clicked(b):\n",
    "    global files\n",
    "    results = []\n",
    "    if wid_selection_fa.value == 'DFA':\n",
    "        doc = 'dfa.cases'\n",
    "        dfa = pm_lib.jffToDFA(files)\n",
    "        g = pm_lib.dfa_to_graph(dfa)\n",
    "        data = pd.read_csv(doc, sep='\\t', dtype=object, names = col_names)\n",
    "        results = pm_lib.dfa_validate(dfa, doc)\n",
    "    else:\n",
    "        doc = 'nfa.cases'\n",
    "        nfa = pm_lib.jffToNFA(files)\n",
    "        g = pm_lib.nfa_to_graph(nfa)\n",
    "        data = pd.read_csv(doc, sep='\\t', dtype=object, names = col_names)\n",
    "        results = pm_lib.nfa_validate(nfa, doc)\n",
    "    df = pd.DataFrame(columns=[\"Received\"])\n",
    "    df[\"Received\"] = results\n",
    "    df = pd.concat([data, df], axis=1)\n",
    "    df = df.dropna()\n",
    "    df.to_csv('file_sent.csv', sep='\\t', encoding='utf-8', index=False)\n",
    "\n",
    "    with output:\n",
    "        clear_output()\n",
    "        display(g)\n",
    "        display(df)\n",
    "\n",
    "button.on_click(on_button_clicked)\n",
    "display(wid_selection_fa, button, output)"
   ]
  },
  {
   "cell_type": "code",
   "execution_count": 6,
   "metadata": {},
   "outputs": [
    {
     "data": {
      "text/plain": [
       "\"\\ndataframe_test = pd.read_csv('file_sent.csv', delimiter='\\t')\\ndisplay(dataframe_test)\\n\""
      ]
     },
     "execution_count": 6,
     "metadata": {},
     "output_type": "execute_result"
    }
   ],
   "source": [
    "\"\"\"\n",
    "dataframe_test = pd.read_csv('file_sent.csv', delimiter='\\t')\n",
    "display(dataframe_test)\n",
    "\"\"\""
   ]
  },
  {
   "cell_type": "code",
   "execution_count": null,
   "metadata": {},
   "outputs": [],
   "source": []
  }
 ],
 "metadata": {
  "interpreter": {
   "hash": "7b733cb55db7dfe2cad4aa6c3148591a13c313bd44485e31c79a75b8eb124656"
  },
  "kernelspec": {
   "display_name": "Python 3 (ipykernel)",
   "language": "python",
   "name": "python3"
  },
  "language_info": {
   "codemirror_mode": {
    "name": "ipython",
    "version": 3
   },
   "file_extension": ".py",
   "mimetype": "text/x-python",
   "name": "python",
   "nbconvert_exporter": "python",
   "pygments_lexer": "ipython3",
   "version": "3.9.6"
  }
 },
 "nbformat": 4,
 "nbformat_minor": 4
}
