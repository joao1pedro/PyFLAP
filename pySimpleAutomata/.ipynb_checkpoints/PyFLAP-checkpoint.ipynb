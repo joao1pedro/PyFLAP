{
 "cells": [
  {
   "cell_type": "code",
   "execution_count": 16,
   "id": "7217d571-b331-401b-b1af-dc8a6a0246f8",
   "metadata": {},
   "outputs": [],
   "source": [
    "import pandas as pd\n",
    "import matplotlib.pyplot as plt\n",
    "import ipywidgets as widgets\n",
    "import pm_lib\n",
    "from PIL import Image\n",
    "from PySimpleAutomata import automata_IO\n",
    "from svglib.svglib import svg2rlg\n",
    "from reportlab.graphics import renderPM"
   ]
  },
  {
   "cell_type": "code",
   "execution_count": 17,
   "id": "d6e0443a-5490-4af9-a6a7-e996217e73ba",
   "metadata": {},
   "outputs": [],
   "source": [
    "selection_fa = ['NFA','DFA']\n",
    "\n",
    "wid_selection_fa = widgets.Dropdown(name=\"FA\")\n",
    "wid_selection_fa.options = selection_fa"
   ]
  },
  {
   "cell_type": "code",
   "execution_count": 32,
   "id": "5b46c41b-df31-498c-8a3f-1cfe13bb031f",
   "metadata": {},
   "outputs": [],
   "source": [
    "def fa_selection(fa_type):\n",
    "    if wid_selection_fa.value == 'NFA':\n",
    "        arquivo = 'nfa.jff'\n",
    "        arquivoTeste = 'nfa.cases'\n",
    "        doc = 'nfa.cases'\n",
    "\n",
    "        print(\"NFA example: \")\n",
    "        nfa = pm_lib.jffToNFA(arquivo)\n",
    "        print(\"\\n\")\n",
    "        param= pm_lib.nfa_validate(nfa, arquivoTeste)\n",
    "        automata_IO.nfa_to_dot(nfa, 'teste_nfa', './')\n",
    "        path = 'teste_nfa.dot.svg'\n",
    "    else:\n",
    "        arquivo_dfa = 'dfa.jff'\n",
    "        arquivo_teste_dfa = 'dfa.cases'\n",
    "        doc = 'dfa.cases'\n",
    "\n",
    "        print(\"\\n\")\n",
    "        print(\"DFA example: \")\n",
    "        dfa = pm_lib.jffToDFA(arquivo_dfa)\n",
    "        print(\"\\n\")\n",
    "        param= pm_lib.dfa_validate(dfa, arquivo_teste_dfa)\n",
    "        automata_IO.dfa_to_dot(dfa, 'teste_dfa', './')\n",
    "        path = 'teste_dfa.dot.svg'\n",
    "    expected_input = pd.read_csv(doc, sep='\\t', engine='python', dtype=str)\n",
    "    expected_input.columns =['Word', 'Expected']\n",
    "    drawing = svg2rlg(path)\n",
    "    renderPM.drawToFile(drawing, 'output.png', fmt='PNG')\n",
    "    display(Image.open('output.png'))\n",
    "    display(expected_input.head(len(expected_input)))\n",
    "    pm_lib.uncouple(param)\n",
    "    \n",
    "interactive_sel = widgets.interactive(fa_selection, fa_type=wid_selection_fa)"
   ]
  },
  {
   "cell_type": "code",
   "execution_count": 33,
   "id": "d51bec50-a3d1-4503-bcc3-68b3fa8fdd84",
   "metadata": {},
   "outputs": [],
   "source": [
    "#display(wid_selection_fa)"
   ]
  },
  {
   "cell_type": "code",
   "execution_count": 34,
   "id": "ae1bea59-4c99-4815-a842-09a71fe8918b",
   "metadata": {},
   "outputs": [
    {
     "data": {
      "application/vnd.jupyter.widget-view+json": {
       "model_id": "2d9a3d44537244c299436570e5719eb0",
       "version_major": 2,
       "version_minor": 0
      },
      "text/plain": [
       "interactive(children=(Dropdown(description='fa_type', options=('NFA', 'DFA'), value='NFA'), Output()), _dom_cl…"
      ]
     },
     "metadata": {},
     "output_type": "display_data"
    }
   ],
   "source": [
    "interactive_sel"
   ]
  },
  {
   "cell_type": "code",
   "execution_count": null,
   "id": "e647da13-b517-4102-bf29-588de1a42b86",
   "metadata": {},
   "outputs": [],
   "source": []
  }
 ],
 "metadata": {
  "kernelspec": {
   "display_name": "Python 3 (ipykernel)",
   "language": "python",
   "name": "python3"
  },
  "language_info": {
   "codemirror_mode": {
    "name": "ipython",
    "version": 3
   },
   "file_extension": ".py",
   "mimetype": "text/x-python",
   "name": "python",
   "nbconvert_exporter": "python",
   "pygments_lexer": "ipython3",
   "version": "3.9.6"
  }
 },
 "nbformat": 4,
 "nbformat_minor": 5
}
