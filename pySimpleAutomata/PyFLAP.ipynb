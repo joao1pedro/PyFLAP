{
 "cells": [
  {
   "cell_type": "code",
   "execution_count": 2,
   "source": [
    "import pandas as pd\n",
    "import numpy as np\n",
    "import pm_lib\n",
    "import ipywidgets as widgets\n",
    "from IPython.display import clear_output, display\n",
    "from tkinter import Tk, filedialog"
   ],
   "outputs": [],
   "metadata": {}
  },
  {
   "cell_type": "code",
   "execution_count": 3,
   "source": [
    "files = ''\n",
    "\n",
    "def select_files(b):\n",
    "    global files\n",
    "    clear_output()\n",
    "    root = Tk()\n",
    "    root.withdraw() # Hide the main window.\n",
    "    root.call('wm', 'attributes', '.', '-topmost', True) # Raise the root to the top of all windows.\n",
    "    files = filedialog.askopenfilename() \n",
    "\n",
    "fileselect = widgets.Button(description=\"File select\")\n",
    "fileselect.on_click(select_files)\n",
    "\n",
    "display(fileselect)\n"
   ],
   "outputs": [
    {
     "output_type": "display_data",
     "data": {
      "text/plain": [
       "Button(description='File select', style=ButtonStyle())"
      ],
      "application/vnd.jupyter.widget-view+json": {
       "version_major": 2,
       "version_minor": 0,
       "model_id": "c8fb0c81a668413da454d048253a4d31"
      }
     },
     "metadata": {}
    }
   ],
   "metadata": {}
  },
  {
   "cell_type": "code",
   "execution_count": 8,
   "source": [
    "button = widgets.Button(description=\"Evaluate\")\n",
    "output = widgets.Output()\n",
    "\n",
    "col_names = ['Word', 'Expected']\n",
    "\n",
    "def on_button_clicked(b):\n",
    "    global files\n",
    "    results = []\n",
    "    if tab.get_title(0) == 'DFA':\n",
    "        doc = 'dfa.cases'\n",
    "        dfa = pm_lib.jffToDFA(files)\n",
    "        g = pm_lib.dfa_to_graph(dfa)\n",
    "        data = pd.read_csv(doc, sep='\\t', dtype=object, names = col_names)\n",
    "        results = pm_lib.dfa_validate(dfa, doc)\n",
    "    else:\n",
    "        doc = 'nfa.cases'\n",
    "        nfa = pm_lib.jffToNFA(files)\n",
    "        g = pm_lib.nfa_to_graph(nfa)\n",
    "        data = pd.read_csv(doc, sep='\\t', dtype=object, names = col_names)\n",
    "        results = pm_lib.nfa_validate(nfa, doc)\n",
    "    df = pd.DataFrame(columns=[\"Received\"])\n",
    "    df[\"Received\"] = results\n",
    "    df = pd.concat([data, df], axis=1)\n",
    "    df = df.dropna()\n",
    "    df.to_csv('file_sent.csv', sep='\\t', encoding='utf-8', index=False)\n",
    "\n",
    "    with output:\n",
    "        clear_output()\n",
    "        display(g)\n",
    "        display(df)\n",
    "\n",
    "button.on_click(on_button_clicked)"
   ],
   "outputs": [],
   "metadata": {}
  },
  {
   "cell_type": "code",
   "execution_count": 9,
   "source": [
    "tab = widgets.Tab(children = [button, button])\n",
    "tab.set_title(0, 'NFA')\n",
    "tab.set_title(1, 'DFA')\n",
    "\n",
    "display(tab, output)"
   ],
   "outputs": [
    {
     "output_type": "display_data",
     "data": {
      "text/plain": [
       "Tab(children=(Button(description='Evaluate', style=ButtonStyle()), Button(description='Evaluate', style=Button…"
      ],
      "application/vnd.jupyter.widget-view+json": {
       "version_major": 2,
       "version_minor": 0,
       "model_id": "03cf5c3738aa4238972b8a971c3eb593"
      }
     },
     "metadata": {}
    },
    {
     "output_type": "display_data",
     "data": {
      "text/plain": [
       "Output()"
      ],
      "application/vnd.jupyter.widget-view+json": {
       "version_major": 2,
       "version_minor": 0,
       "model_id": "69c2f62b9206497bbbed6ed929b8647d"
      }
     },
     "metadata": {}
    }
   ],
   "metadata": {}
  },
  {
   "cell_type": "code",
   "execution_count": null,
   "source": [],
   "outputs": [],
   "metadata": {}
  }
 ],
 "metadata": {
  "interpreter": {
   "hash": "7b733cb55db7dfe2cad4aa6c3148591a13c313bd44485e31c79a75b8eb124656"
  },
  "kernelspec": {
   "name": "python3",
   "display_name": "Python 3.9.6 64-bit ('pyflap': conda)"
  },
  "language_info": {
   "codemirror_mode": {
    "name": "ipython",
    "version": 3
   },
   "file_extension": ".py",
   "mimetype": "text/x-python",
   "name": "python",
   "nbconvert_exporter": "python",
   "pygments_lexer": "ipython3",
   "version": "3.9.6"
  }
 },
 "nbformat": 4,
 "nbformat_minor": 4
}