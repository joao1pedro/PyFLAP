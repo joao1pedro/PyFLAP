{
 "cells": [
  {
   "cell_type": "code",
   "execution_count": 1,
   "source": [
    "import ipywidgets as widgets\n",
    "import pandas as pd\n",
    "import pm_lib\n",
    "\n",
    "from IPython.display import display"
   ],
   "outputs": [],
   "metadata": {}
  },
  {
   "cell_type": "code",
   "execution_count": 2,
   "source": [
    "selection_fa = ['NFA','DFA']\n",
    "\n",
    "wid_selection_fa = widgets.Dropdown(name=\"FA\")\n",
    "wid_selection_fa.options = selection_fa"
   ],
   "outputs": [],
   "metadata": {}
  },
  {
   "cell_type": "code",
   "execution_count": 5,
   "source": [
    "col_names = ['Word', 'Expected']\n",
    "\n",
    "def fa_selection(fa_type):\n",
    "    if wid_selection_fa.value == 'NFA':\n",
    "        arquivo = 'nfa.jff'\n",
    "        arquivoTeste = 'nfa.cases'\n",
    "        doc = 'nfa.cases'\n",
    "        print(\"NFA example: \")\n",
    "        nfa = pm_lib.jffToNFA(arquivo)\n",
    "        g = pm_lib.nfa_to_graph(nfa)\n",
    "        display(g)\n",
    "        data = pd.read_csv(doc, sep='\\t', dtype=object, names = col_names)\n",
    "        display(data)\n",
    "        pm_lib.uncouple(pm_lib.nfa_validate(nfa, arquivoTeste))\n",
    "    else:\n",
    "        arquivo = 'dfa.jff'\n",
    "        arquivoTeste = 'dfa.cases'\n",
    "        doc = 'dfa.cases'\n",
    "        print(\"DFA example: \")\n",
    "        dfa = pm_lib.jffToDFA(arquivo)\n",
    "        g = pm_lib.dfa_to_graph(dfa)\n",
    "        display(g)\n",
    "        data = pd.read_csv(doc, sep='\\t', dtype=object, names = col_names)\n",
    "        display(data)\n",
    "        pm_lib.uncouple(pm_lib.dfa_validate(dfa, arquivoTeste))\n",
    "    \n",
    "interactive_sel = widgets.interactive(fa_selection, fa_type=wid_selection_fa)"
   ],
   "outputs": [],
   "metadata": {}
  },
  {
   "cell_type": "code",
   "execution_count": 6,
   "source": [
    "interactive_sel"
   ],
   "outputs": [
    {
     "output_type": "display_data",
     "data": {
      "text/plain": [
       "interactive(children=(Dropdown(description='fa_type', index=1, options=('NFA', 'DFA'), value='DFA'), Output())…"
      ],
      "application/vnd.jupyter.widget-view+json": {
       "version_major": 2,
       "version_minor": 0,
       "model_id": "d1a3bd9fdaf7473c92e34e695256f90b"
      }
     },
     "metadata": {}
    }
   ],
   "metadata": {}
  },
  {
   "cell_type": "code",
   "execution_count": null,
   "source": [],
   "outputs": [],
   "metadata": {}
  }
 ],
 "metadata": {
  "kernelspec": {
   "name": "python3",
   "display_name": "Python 3.9.6 64-bit ('pyflap': conda)"
  },
  "language_info": {
   "codemirror_mode": {
    "name": "ipython",
    "version": 3
   },
   "file_extension": ".py",
   "mimetype": "text/x-python",
   "name": "python",
   "nbconvert_exporter": "python",
   "pygments_lexer": "ipython3",
   "version": "3.9.6"
  },
  "interpreter": {
   "hash": "7b733cb55db7dfe2cad4aa6c3148591a13c313bd44485e31c79a75b8eb124656"
  }
 },
 "nbformat": 4,
 "nbformat_minor": 5
}