{
 "cells": [
  {
   "cell_type": "code",
   "execution_count": 1,
   "source": [
    "import ipywidgets as widgets\n",
    "import pm_lib\n",
    "from PIL import Image\n",
    "from PySimpleAutomata import automata_IO\n",
    "from svglib.svglib import svg2rlg\n",
    "from reportlab.graphics import renderPM"
   ],
   "outputs": [],
   "metadata": {}
  },
  {
   "cell_type": "code",
   "execution_count": 2,
   "source": [
    "selection_fa = ['NFA','DFA']\n",
    "\n",
    "wid_selection_fa = widgets.Dropdown(name=\"FA\")\n",
    "wid_selection_fa.options = selection_fa"
   ],
   "outputs": [],
   "metadata": {}
  },
  {
   "cell_type": "code",
   "execution_count": 10,
   "source": [
    "def fa_selection(fa_type):\n",
    "    if wid_selection_fa.value == 'NFA':\n",
    "        arquivo = 'nfa.jff'\n",
    "        arquivoTeste = 'nfa.cases'\n",
    "        doc = 'nfa.cases'\n",
    "\n",
    "        print(\"NFA example: \")\n",
    "        nfa = pm_lib.jffToNFA(arquivo)\n",
    "        print(\"\\n\")\n",
    "        param= pm_lib.nfa_validate(nfa, arquivoTeste)\n",
    "        automata_IO.nfa_to_dot(nfa, 'teste_nfa', './')\n",
    "        path = 'teste_nfa.dot.svg'\n",
    "    else:\n",
    "        arquivo_dfa = 'q2.jff'\n",
    "        #arquivo_dfa = 'dfa.jff'\n",
    "        arquivo_teste_dfa = 'dfa.cases'\n",
    "        doc = 'dfa.cases'\n",
    "\n",
    "        print(\"\\n\")\n",
    "        print(\"DFA example: \")\n",
    "        dfa = pm_lib.jffToDFA(arquivo_dfa)\n",
    "        print(\"\\n\")\n",
    "        param= pm_lib.dfa_validate(dfa, arquivo_teste_dfa)\n",
    "        automata_IO.dfa_to_dot(dfa, 'teste_dfa', './')\n",
    "        path = 'teste_dfa.dot.svg'\n",
    "    show_img_result(doc, param, path)\n",
    "\n",
    "def show_img_result(doc, param, path):\n",
    "    drawing = svg2rlg(path)\n",
    "    renderPM.drawToFile(drawing, 'output.png', fmt='PNG')\n",
    "    display(Image.open('output.png'))\n",
    "    pm_lib.uncouple(param)\n",
    "\n",
    "    print('\\n-----------------------------------')\n",
    "    print('Table of inputs:\\n')\n",
    "    print('Word\texpected\\n')\n",
    "    with open(doc, 'r') as f:\n",
    "        myNames = [line.strip() for line in f]\n",
    "    for elem in myNames:\n",
    "        print(elem)\n",
    "    print('-----------------------------------')\n",
    "    \n",
    "interactive_sel = widgets.interactive(fa_selection, fa_type=wid_selection_fa)"
   ],
   "outputs": [],
   "metadata": {}
  },
  {
   "cell_type": "code",
   "execution_count": 11,
   "source": [
    "#display(wid_selection_fa)"
   ],
   "outputs": [],
   "metadata": {}
  },
  {
   "cell_type": "code",
   "execution_count": 12,
   "source": [
    "interactive_sel"
   ],
   "outputs": [
    {
     "output_type": "display_data",
     "data": {
      "text/plain": [
       "interactive(children=(Dropdown(description='fa_type', index=1, options=('NFA', 'DFA'), value='DFA'), Output())…"
      ],
      "application/vnd.jupyter.widget-view+json": {
       "version_major": 2,
       "version_minor": 0,
       "model_id": "aaf0209de05f4c9b85e2e05b12abd0f0"
      }
     },
     "metadata": {}
    }
   ],
   "metadata": {}
  },
  {
   "cell_type": "code",
   "execution_count": null,
   "source": [],
   "outputs": [],
   "metadata": {}
  }
 ],
 "metadata": {
  "kernelspec": {
   "name": "python3",
   "display_name": "Python 3.9.6 64-bit ('pyflap': conda)"
  },
  "language_info": {
   "codemirror_mode": {
    "name": "ipython",
    "version": 3
   },
   "file_extension": ".py",
   "mimetype": "text/x-python",
   "name": "python",
   "nbconvert_exporter": "python",
   "pygments_lexer": "ipython3",
   "version": "3.9.6"
  },
  "interpreter": {
   "hash": "7b733cb55db7dfe2cad4aa6c3148591a13c313bd44485e31c79a75b8eb124656"
  }
 },
 "nbformat": 4,
 "nbformat_minor": 5
}