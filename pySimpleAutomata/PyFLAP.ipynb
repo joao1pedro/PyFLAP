{
 "cells": [
  {
   "cell_type": "code",
   "execution_count": 1,
   "metadata": {},
   "outputs": [],
   "source": [
    "import pandas as pd\n",
    "import pm_lib\n",
    "import ipywidgets as widgets\n",
    "from IPython.display import clear_output, display\n",
    "from tkinter import Tk, filedialog"
   ]
  },
  {
   "cell_type": "code",
   "execution_count": 2,
   "metadata": {},
   "outputs": [],
   "source": [
    "files = ''\n",
    "\n",
    "def select_files(b):\n",
    "    global files\n",
    "    clear_output()\n",
    "    root = Tk()\n",
    "    root.withdraw() # Hide the main window.\n",
    "    root.call('wm', 'attributes', '.', '-topmost', True) # Raise the root to the top of all windows.\n",
    "    files = filedialog.askopenfilename(title='Choose a File') \n",
    "\n",
    "def select_files_multiple(b):\n",
    "    global files\n",
    "    clear_output()\n",
    "    root = Tk()\n",
    "    root.withdraw() # Hide the main window.\n",
    "    root.call('wm', 'attributes', '.', '-topmost', True) # Raise the root to the top of all windows.\n",
    "    files = filedialog.askopenfilename(title='Choose a File', multiple=True) \n",
    "\n",
    "fileselect = widgets.Button(description=\"File select\")\n",
    "fileselect.on_click(select_files)\n",
    "\n",
    "fileselect_multiple = widgets.Button(description=\"File select\")\n",
    "fileselect_multiple.on_click(select_files_multiple)\n"
   ]
  },
  {
   "cell_type": "code",
   "execution_count": 3,
   "metadata": {},
   "outputs": [],
   "source": [
    "col_names = ['Word', 'Expected']\n",
    "\n",
    "\n",
    "def on_button_clicked_nfa(b):\n",
    "    global files\n",
    "    results = []\n",
    "    \n",
    "    with out1:\n",
    "        nfa = pm_lib.jffToNFA(files)\n",
    "        doc = 'nfa.cases'\n",
    "        g = pm_lib.nfa_to_graph(nfa)\n",
    "        data = pd.read_csv(doc, sep='\\t', dtype=object, names = col_names)\n",
    "        results = pm_lib.nfa_validate(nfa, doc)\n",
    "        df = pd.DataFrame(columns=[\"Received\"])\n",
    "        df[\"Received\"] = results\n",
    "        df = pd.concat([data, df], axis=1)\n",
    "        df = df.dropna()\n",
    "        df.to_csv('file_sent.csv', sep='\\t', encoding='utf-8', index=False)\n",
    "        clear_output()\n",
    "        display(g)\n",
    "        display(df)\n",
    "\n",
    "def on_button_clicked_dfa(b):\n",
    "    global files\n",
    "    results = []\n",
    "    \n",
    "    with out2:\n",
    "        dfa = pm_lib.jffToDFA(files)\n",
    "        doc = 'dfa.cases'\n",
    "        g = pm_lib.dfa_to_graph(dfa)\n",
    "        data = pd.read_csv(doc, sep='\\t', dtype=object, names = col_names)\n",
    "        results = pm_lib.dfa_validate(dfa, doc)\n",
    "        df = pd.DataFrame(columns=[\"Received\"])\n",
    "        df[\"Received\"] = results\n",
    "        df = pd.concat([data, df], axis=1)\n",
    "        df = df.dropna()\n",
    "        df.to_csv('file_sent.csv', sep='\\t', encoding='utf-8', index=False)\n",
    "        clear_output()\n",
    "        display(g)\n",
    "        display(df)\n",
    "\n"
   ]
  },
  {
   "cell_type": "code",
   "execution_count": 6,
   "metadata": {},
   "outputs": [],
   "source": [
    "def on_button_clicked_union(b):\n",
    "    global files\n",
    "\n",
    "    with out3:\n",
    "        automata1 = pm_lib.jffToDFA(files[0])\n",
    "        automata2 = pm_lib.jffToDFA(files[1])\n",
    "        united_automata = pm_lib.automata_dfa_union(automata1, automata2)\n",
    "        g = pm_lib.dfa_to_graph(united_automata)\n",
    "        clear_output()\n",
    "        display(g)\n",
    "\n",
    "def on_button_clicked_intersection(b):\n",
    "    global files\n",
    "\n",
    "    with out4:\n",
    "        automata1 = pm_lib.jffToNFA(files[0])\n",
    "        automata2 = pm_lib.jffToNFA(files[1])\n",
    "        intersection_automata = pm_lib.automata_intersection(automata1, automata2)\n",
    "        g = pm_lib.nfa_to_graph(intersection_automata)\n",
    "        clear_output()\n",
    "        display(g)\n"
   ]
  },
  {
   "cell_type": "code",
   "execution_count": 7,
   "metadata": {},
   "outputs": [
    {
     "data": {
      "application/vnd.jupyter.widget-view+json": {
       "model_id": "72b4267395e8411b8ca78f88ddc2ee9d",
       "version_major": 2,
       "version_minor": 0
      },
      "text/plain": [
       "Tab(children=(VBox(children=(Button(description='File select', style=ButtonStyle()), Output(), Button(descript…"
      ]
     },
     "metadata": {},
     "output_type": "display_data"
    }
   ],
   "source": [
    "out1 = widgets.Output()\n",
    "out2 = widgets.Output()\n",
    "out3 = widgets.Output()\n",
    "out4 = widgets.Output()\n",
    "out5 = widgets.Output()\n",
    "\n",
    "button_nfa = widgets.Button(description='Eval')\n",
    "button_dfa = widgets.Button(description='Eval')\n",
    "button_union = widgets.Button(description='Union')\n",
    "button_intersection = widgets.Button(description='Intersection')\n",
    "\n",
    "button_nfa.on_click(on_button_clicked_nfa)\n",
    "button_dfa.on_click(on_button_clicked_dfa)\n",
    "button_union.on_click(on_button_clicked_union)\n",
    "button_intersection.on_click(on_button_clicked_intersection)\n",
    "    \n",
    "vbox1 = widgets.VBox([fileselect, out1, button_nfa])\n",
    "vbox2 = widgets.VBox([fileselect, out2, button_dfa])\n",
    "vbox3 = widgets.VBox([fileselect_multiple, out3, button_union])\n",
    "vbox4 = widgets.VBox([fileselect_multiple, out4, button_intersection])\n",
    "\n",
    "tab = widgets.Tab(children = [vbox1, vbox2, vbox3, vbox4])\n",
    "tab.set_title(0, 'NFA')\n",
    "tab.set_title(1, 'DFA')\n",
    "tab.set_title(2, 'Union')\n",
    "tab.set_title(3, 'Intersection')\n",
    "\n",
    "display(tab)\n",
    "\n"
   ]
  },
  {
   "cell_type": "code",
   "execution_count": null,
   "metadata": {},
   "outputs": [],
   "source": []
  }
 ],
 "metadata": {
  "interpreter": {
   "hash": "7b733cb55db7dfe2cad4aa6c3148591a13c313bd44485e31c79a75b8eb124656"
  },
  "kernelspec": {
   "display_name": "Python 3 (ipykernel)",
   "language": "python",
   "name": "python3"
  },
  "language_info": {
   "codemirror_mode": {
    "name": "ipython",
    "version": 3
   },
   "file_extension": ".py",
   "mimetype": "text/x-python",
   "name": "python",
   "nbconvert_exporter": "python",
   "pygments_lexer": "ipython3",
   "version": "3.9.6"
  }
 },
 "nbformat": 4,
 "nbformat_minor": 4
}
