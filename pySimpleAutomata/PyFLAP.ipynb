{
 "cells": [
  {
   "cell_type": "code",
   "execution_count": 34,
   "id": "7217d571-b331-401b-b1af-dc8a6a0246f8",
   "metadata": {},
   "outputs": [],
   "source": [
    "import pandas as pd\n",
    "import matplotlib.pyplot as plt\n",
    "import ipywidgets as widgets\n",
    "import pm_lib\n",
    "from PIL import Image\n",
    "from PySimpleAutomata import automata_IO\n",
    "from svglib.svglib import svg2rlg\n",
    "from reportlab.graphics import renderPM"
   ]
  },
  {
   "cell_type": "code",
   "execution_count": 35,
   "id": "d6e0443a-5490-4af9-a6a7-e996217e73ba",
   "metadata": {},
   "outputs": [],
   "source": [
    "selection_fa = ['NFA','DFA']\n",
    "\n",
    "wid_selection_fa = widgets.Dropdown(name=\"FA\")\n",
    "wid_selection_fa.options = selection_fa"
   ]
  },
  {
   "cell_type": "code",
   "execution_count": 39,
   "id": "5b46c41b-df31-498c-8a3f-1cfe13bb031f",
   "metadata": {},
   "outputs": [
    {
     "data": {
      "application/vnd.jupyter.widget-view+json": {
       "model_id": "4e93c61ff8d04bc7bd927424b06e340c",
       "version_major": 2,
       "version_minor": 0
      },
      "text/plain": [
       "Dropdown(index=1, options=('NFA', 'DFA'), value='DFA')"
      ]
     },
     "metadata": {},
     "output_type": "display_data"
    },
    {
     "name": "stdout",
     "output_type": "stream",
     "text": [
      "\n",
      "\n",
      "DFA example: \n",
      "\n",
      "\n"
     ]
    }
   ],
   "source": [
    "display(wid_selection_fa)\n",
    "\n",
    "if wid_selection_fa.value == 'NFA':\n",
    "    arquivo = 'nfa.jff'\n",
    "    arquivoTeste = 'nfa.cases'\n",
    "    doc = 'nfa.cases'\n",
    "\n",
    "    print(\"NFA example: \")\n",
    "    nfa = pm_lib.jffToNFA(arquivo)\n",
    "    print(\"\\n\")\n",
    "    param= pm_lib.nfa_validate(nfa, arquivoTeste)\n",
    "    automata_IO.nfa_to_dot(nfa, 'teste_nfa', './')\n",
    "    path = 'teste_nfa.dot.svg'\n",
    "else:\n",
    "    arquivo_dfa = 'dfa.jff'\n",
    "    arquivo_teste_dfa = 'dfa.cases'\n",
    "    doc = 'dfa.cases'\n",
    "\n",
    "    print(\"\\n\")\n",
    "    print(\"DFA example: \")\n",
    "    dfa = pm_lib.jffToDFA(arquivo_dfa)\n",
    "    print(\"\\n\")\n",
    "    param= pm_lib.dfa_validate(dfa, arquivo_teste_dfa)\n",
    "    automata_IO.dfa_to_dot(dfa, 'teste_dfa', './')\n",
    "    path = 'teste_dfa.dot.svg'\n",
    "expected_input = pd.read_csv(doc, sep='\\t', engine='python')\n",
    "expected_input.columns =['Word', 'Expected']"
   ]
  },
  {
   "cell_type": "markdown",
   "id": "863a0b03-3bc8-491b-b080-00539c557e67",
   "metadata": {},
   "source": [
    "# Generated automata"
   ]
  },
  {
   "cell_type": "code",
   "execution_count": 40,
   "id": "cd49c6da-8755-4497-84dd-4681df2eee31",
   "metadata": {},
   "outputs": [
    {
     "data": {
      "image/png": "[encoded data removed]",
      "text/plain": [
       "<PIL.PngImagePlugin.PngImageFile image mode=RGB size=118x383 at 0x7F6D600D9BB0>"
      ]
     },
     "metadata": {},
     "output_type": "display_data"
    }
   ],
   "source": [
    "drawing = svg2rlg(path)\n",
    "renderPM.drawToFile(drawing, 'output.png', fmt='PNG')\n",
    "display(Image.open('output.png'))"
   ]
  },
  {
   "cell_type": "markdown",
   "id": "5b8d2840-53bb-4eba-bf41-cce02bb30b8f",
   "metadata": {},
   "source": [
    "### Tests cases"
   ]
  },
  {
   "cell_type": "code",
   "execution_count": 41,
   "id": "f99a6e18-c746-4c34-9428-66cdd423447d",
   "metadata": {},
   "outputs": [
    {
     "data": {
      "text/html": [
       "<div>\n",
       "<style scoped>\n",
       "    .dataframe tbody tr th:only-of-type {\n",
       "        vertical-align: middle;\n",
       "    }\n",
       "\n",
       "    .dataframe tbody tr th {\n",
       "        vertical-align: top;\n",
       "    }\n",
       "\n",
       "    .dataframe thead th {\n",
       "        text-align: right;\n",
       "    }\n",
       "</style>\n",
       "<table border=\"1\" class=\"dataframe\">\n",
       "  <thead>\n",
       "    <tr style=\"text-align: right;\">\n",
       "      <th></th>\n",
       "      <th>Word</th>\n",
       "      <th>Expected</th>\n",
       "    </tr>\n",
       "  </thead>\n",
       "  <tbody>\n",
       "    <tr>\n",
       "      <th>0</th>\n",
       "      <td>1</td>\n",
       "      <td>False</td>\n",
       "    </tr>\n",
       "    <tr>\n",
       "      <th>1</th>\n",
       "      <td>110</td>\n",
       "      <td>False</td>\n",
       "    </tr>\n",
       "    <tr>\n",
       "      <th>2</th>\n",
       "      <td>0</td>\n",
       "      <td>True</td>\n",
       "    </tr>\n",
       "    <tr>\n",
       "      <th>3</th>\n",
       "      <td>100</td>\n",
       "      <td>False</td>\n",
       "    </tr>\n",
       "  </tbody>\n",
       "</table>\n",
       "</div>"
      ],
      "text/plain": [
       "   Word  Expected\n",
       "0     1     False\n",
       "1   110     False\n",
       "2     0      True\n",
       "3   100     False"
      ]
     },
     "metadata": {},
     "output_type": "display_data"
    },
    {
     "name": "stdout",
     "output_type": "stream",
     "text": [
      "Tests failed:  2\n",
      "for input 001 receive False but expected True\n",
      "for input 000 receive True but expected False\n"
     ]
    }
   ],
   "source": [
    "display(expected_input.head(len(expected_input)))\n",
    "\n",
    "pm_lib.uncouple(param)"
   ]
  },
  {
   "cell_type": "code",
   "execution_count": null,
   "id": "ae1bea59-4c99-4815-a842-09a71fe8918b",
   "metadata": {},
   "outputs": [],
   "source": []
  }
 ],
 "metadata": {
  "kernelspec": {
   "display_name": "Python 3 (ipykernel)",
   "language": "python",
   "name": "python3"
  },
  "language_info": {
   "codemirror_mode": {
    "name": "ipython",
    "version": 3
   },
   "file_extension": ".py",
   "mimetype": "text/x-python",
   "name": "python",
   "nbconvert_exporter": "python",
   "pygments_lexer": "ipython3",
   "version": "3.9.6"
  }
 },
 "nbformat": 4,
 "nbformat_minor": 5
}
